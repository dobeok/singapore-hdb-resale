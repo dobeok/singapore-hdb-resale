{
 "cells": [
  {
   "attachments": {},
   "cell_type": "markdown",
   "metadata": {},
   "source": [
    "In this series I will be modeling Singapore's HDB flats resale price. The first part is about building a model, following a standard ML problem process (EDA, Feature Engineering, Split train/test data, Fit model, Evaluation). The second part (coming soon™) will be about mlops. I will use `mlflow` to track and manage experiments & models.\n",
    "\n",
    "Part 1 (This post)\n",
    "- Train different models to predict resale price for Singapore's HDB\n",
    "\n",
    "Part 2 (Coming soon™)\n",
    "- Run & Log experiments and models using `mlflow`\n",
    "- Save models to model registry\n",
    "- Load and serve the best model"
   ]
  },
  {
   "attachments": {},
   "cell_type": "markdown",
   "metadata": {},
   "source": [
    "<details><summary>What are HDB flats?</summary>\n",
    "    <ul>\n",
    "    <li> HDB (Housing and Development Board) buildings are public housing blocks in Singapore. They were built and managed by the Housing and Development Board (HDB), a statutory board under the Ministry of National Development. \n",
    "    <li>\n",
    "    HDB flats range from studio apartments to executive apartments, and are available for purchase or rent. Today 80% of Singapore's population live in HDB flats.\n",
    "    </li>\n",
    "    </li>\n",
    "    <li>\n",
    "    HDB flats are typically located in housing estates, which are self-contained communities with amenities such as schools, markets, and parks. The HDB also manages and maintains the estates, ensuring that they remain safe, clean and well-maintained.\n",
    "    </li>\n",
    "    </ul>\n",
    "\n",
    "</details>"
   ]
  },
  {
   "attachments": {},
   "cell_type": "markdown",
   "metadata": {},
   "source": [
    "## 0. Import and read data"
   ]
  },
  {
   "cell_type": "code",
   "execution_count": 1,
   "metadata": {},
   "outputs": [],
   "source": [
    "import pandas as pd\n",
    "import numpy as np\n",
    "\n",
    "import matplotlib.pyplot as plt\n",
    "import seaborn as sns\n",
    "\n",
    "import geopandas as gpd\n",
    "from shapely.geometry import Point\n",
    "import folium\n",
    "\n",
    "from math import radians, cos, sin, asin, sqrt\n",
    "\n",
    "from sklearn.model_selection import train_test_split\n",
    "from sklearn.metrics import mean_squared_error\n",
    "from sklearn.linear_model import LinearRegression\n",
    "from sklearn.ensemble import RandomForestRegressor, GradientBoostingRegressor\n",
    "from sklearn.svm import LinearSVR"
   ]
  },
  {
   "cell_type": "code",
   "execution_count": 2,
   "metadata": {},
   "outputs": [
    {
     "data": {
      "text/plain": [
       "(133473, 18)"
      ]
     },
     "execution_count": 2,
     "metadata": {},
     "output_type": "execute_result"
    }
   ],
   "source": [
    "df = pd.read_csv('./data/processed/intermediate-data.csv')\n",
    "df['town'] = df['town'].replace({'KALLANG/WHAMPOA': 'KALLANG'})\n",
    "df.shape"
   ]
  },
  {
   "attachments": {},
   "cell_type": "markdown",
   "metadata": {},
   "source": [
    "## 1. Exploratory Data Analysis"
   ]
  },
  {
   "attachments": {},
   "cell_type": "markdown",
   "metadata": {},
   "source": [
    "Preview dataset"
   ]
  },
  {
   "cell_type": "code",
   "execution_count": 3,
   "metadata": {},
   "outputs": [
    {
     "data": {
      "text/html": [
       "<div>\n",
       "<style scoped>\n",
       "    .dataframe tbody tr th:only-of-type {\n",
       "        vertical-align: middle;\n",
       "    }\n",
       "\n",
       "    .dataframe tbody tr th {\n",
       "        vertical-align: top;\n",
       "    }\n",
       "\n",
       "    .dataframe thead th {\n",
       "        text-align: right;\n",
       "    }\n",
       "</style>\n",
       "<table border=\"1\" class=\"dataframe\">\n",
       "  <thead>\n",
       "    <tr style=\"text-align: right;\">\n",
       "      <th></th>\n",
       "      <th>0</th>\n",
       "      <th>1</th>\n",
       "      <th>2</th>\n",
       "      <th>3</th>\n",
       "      <th>4</th>\n",
       "    </tr>\n",
       "  </thead>\n",
       "  <tbody>\n",
       "    <tr>\n",
       "      <th>month</th>\n",
       "      <td>2017-01</td>\n",
       "      <td>2017-01</td>\n",
       "      <td>2017-01</td>\n",
       "      <td>2017-01</td>\n",
       "      <td>2017-01</td>\n",
       "    </tr>\n",
       "    <tr>\n",
       "      <th>town</th>\n",
       "      <td>ANG MO KIO</td>\n",
       "      <td>ANG MO KIO</td>\n",
       "      <td>ANG MO KIO</td>\n",
       "      <td>ANG MO KIO</td>\n",
       "      <td>ANG MO KIO</td>\n",
       "    </tr>\n",
       "    <tr>\n",
       "      <th>flat_type</th>\n",
       "      <td>2 ROOM</td>\n",
       "      <td>3 ROOM</td>\n",
       "      <td>3 ROOM</td>\n",
       "      <td>3 ROOM</td>\n",
       "      <td>3 ROOM</td>\n",
       "    </tr>\n",
       "    <tr>\n",
       "      <th>block</th>\n",
       "      <td>406</td>\n",
       "      <td>108</td>\n",
       "      <td>602</td>\n",
       "      <td>465</td>\n",
       "      <td>601</td>\n",
       "    </tr>\n",
       "    <tr>\n",
       "      <th>street_name_x</th>\n",
       "      <td>ANG MO KIO AVE 10</td>\n",
       "      <td>ANG MO KIO AVE 4</td>\n",
       "      <td>ANG MO KIO AVE 5</td>\n",
       "      <td>ANG MO KIO AVE 10</td>\n",
       "      <td>ANG MO KIO AVE 5</td>\n",
       "    </tr>\n",
       "    <tr>\n",
       "      <th>storey_range</th>\n",
       "      <td>10 TO 12</td>\n",
       "      <td>01 TO 03</td>\n",
       "      <td>01 TO 03</td>\n",
       "      <td>04 TO 06</td>\n",
       "      <td>01 TO 03</td>\n",
       "    </tr>\n",
       "    <tr>\n",
       "      <th>floor_area_sqm</th>\n",
       "      <td>44.0</td>\n",
       "      <td>67.0</td>\n",
       "      <td>67.0</td>\n",
       "      <td>68.0</td>\n",
       "      <td>67.0</td>\n",
       "    </tr>\n",
       "    <tr>\n",
       "      <th>flat_model</th>\n",
       "      <td>Improved</td>\n",
       "      <td>New Generation</td>\n",
       "      <td>New Generation</td>\n",
       "      <td>New Generation</td>\n",
       "      <td>New Generation</td>\n",
       "    </tr>\n",
       "    <tr>\n",
       "      <th>lease_commence_date</th>\n",
       "      <td>1979</td>\n",
       "      <td>1978</td>\n",
       "      <td>1980</td>\n",
       "      <td>1980</td>\n",
       "      <td>1980</td>\n",
       "    </tr>\n",
       "    <tr>\n",
       "      <th>remaining_lease</th>\n",
       "      <td>61 years 04 months</td>\n",
       "      <td>60 years 07 months</td>\n",
       "      <td>62 years 05 months</td>\n",
       "      <td>62 years 01 month</td>\n",
       "      <td>62 years 05 months</td>\n",
       "    </tr>\n",
       "    <tr>\n",
       "      <th>resale_price</th>\n",
       "      <td>232000.0</td>\n",
       "      <td>250000.0</td>\n",
       "      <td>262000.0</td>\n",
       "      <td>265000.0</td>\n",
       "      <td>265000.0</td>\n",
       "    </tr>\n",
       "    <tr>\n",
       "      <th>key</th>\n",
       "      <td>ANG MO KIO AVENUE 10</td>\n",
       "      <td>ANG MO KIO AVENUE 4</td>\n",
       "      <td>ANG MO KIO AVENUE 5</td>\n",
       "      <td>ANG MO KIO AVENUE 10</td>\n",
       "      <td>ANG MO KIO AVENUE 5</td>\n",
       "    </tr>\n",
       "    <tr>\n",
       "      <th>postal</th>\n",
       "      <td>560406.0</td>\n",
       "      <td>560108.0</td>\n",
       "      <td>560602.0</td>\n",
       "      <td>560465.0</td>\n",
       "      <td>560601.0</td>\n",
       "    </tr>\n",
       "    <tr>\n",
       "      <th>latitude</th>\n",
       "      <td>1.362005</td>\n",
       "      <td>1.370966</td>\n",
       "      <td>1.380709</td>\n",
       "      <td>1.366201</td>\n",
       "      <td>1.381041</td>\n",
       "    </tr>\n",
       "    <tr>\n",
       "      <th>longitude</th>\n",
       "      <td>103.85388</td>\n",
       "      <td>103.838202</td>\n",
       "      <td>103.835368</td>\n",
       "      <td>103.857201</td>\n",
       "      <td>103.835132</td>\n",
       "    </tr>\n",
       "    <tr>\n",
       "      <th>street_name_y</th>\n",
       "      <td>ANG MO KIO AVENUE 10</td>\n",
       "      <td>ANG MO KIO AVENUE 4</td>\n",
       "      <td>ANG MO KIO AVENUE 5</td>\n",
       "      <td>ANG MO KIO AVENUE 10</td>\n",
       "      <td>ANG MO KIO AVENUE 5</td>\n",
       "    </tr>\n",
       "    <tr>\n",
       "      <th>building</th>\n",
       "      <td>HDB-ANG MO KIO</td>\n",
       "      <td>KEBUN BARU HEIGHTS</td>\n",
       "      <td>YIO CHU KANG GREEN</td>\n",
       "      <td>TECK GHEE HORIZON</td>\n",
       "      <td>YIO CHU KANG GREEN</td>\n",
       "    </tr>\n",
       "    <tr>\n",
       "      <th>address</th>\n",
       "      <td>406 ANG MO KIO AVENUE 10 HDB-ANG MO KIO SINGAP...</td>\n",
       "      <td>108 ANG MO KIO AVENUE 4 KEBUN BARU HEIGHTS SIN...</td>\n",
       "      <td>602 ANG MO KIO AVENUE 5 YIO CHU KANG GREEN SIN...</td>\n",
       "      <td>465 ANG MO KIO AVENUE 10 TECK GHEE HORIZON SIN...</td>\n",
       "      <td>601 ANG MO KIO AVENUE 5 YIO CHU KANG GREEN SIN...</td>\n",
       "    </tr>\n",
       "  </tbody>\n",
       "</table>\n",
       "</div>"
      ],
      "text/plain": [
       "                                                                     0  \\\n",
       "month                                                          2017-01   \n",
       "town                                                        ANG MO KIO   \n",
       "flat_type                                                       2 ROOM   \n",
       "block                                                              406   \n",
       "street_name_x                                        ANG MO KIO AVE 10   \n",
       "storey_range                                                  10 TO 12   \n",
       "floor_area_sqm                                                    44.0   \n",
       "flat_model                                                    Improved   \n",
       "lease_commence_date                                               1979   \n",
       "remaining_lease                                     61 years 04 months   \n",
       "resale_price                                                  232000.0   \n",
       "key                                               ANG MO KIO AVENUE 10   \n",
       "postal                                                        560406.0   \n",
       "latitude                                                      1.362005   \n",
       "longitude                                                    103.85388   \n",
       "street_name_y                                     ANG MO KIO AVENUE 10   \n",
       "building                                                HDB-ANG MO KIO   \n",
       "address              406 ANG MO KIO AVENUE 10 HDB-ANG MO KIO SINGAP...   \n",
       "\n",
       "                                                                     1  \\\n",
       "month                                                          2017-01   \n",
       "town                                                        ANG MO KIO   \n",
       "flat_type                                                       3 ROOM   \n",
       "block                                                              108   \n",
       "street_name_x                                         ANG MO KIO AVE 4   \n",
       "storey_range                                                  01 TO 03   \n",
       "floor_area_sqm                                                    67.0   \n",
       "flat_model                                              New Generation   \n",
       "lease_commence_date                                               1978   \n",
       "remaining_lease                                     60 years 07 months   \n",
       "resale_price                                                  250000.0   \n",
       "key                                                ANG MO KIO AVENUE 4   \n",
       "postal                                                        560108.0   \n",
       "latitude                                                      1.370966   \n",
       "longitude                                                   103.838202   \n",
       "street_name_y                                      ANG MO KIO AVENUE 4   \n",
       "building                                            KEBUN BARU HEIGHTS   \n",
       "address              108 ANG MO KIO AVENUE 4 KEBUN BARU HEIGHTS SIN...   \n",
       "\n",
       "                                                                     2  \\\n",
       "month                                                          2017-01   \n",
       "town                                                        ANG MO KIO   \n",
       "flat_type                                                       3 ROOM   \n",
       "block                                                              602   \n",
       "street_name_x                                         ANG MO KIO AVE 5   \n",
       "storey_range                                                  01 TO 03   \n",
       "floor_area_sqm                                                    67.0   \n",
       "flat_model                                              New Generation   \n",
       "lease_commence_date                                               1980   \n",
       "remaining_lease                                     62 years 05 months   \n",
       "resale_price                                                  262000.0   \n",
       "key                                                ANG MO KIO AVENUE 5   \n",
       "postal                                                        560602.0   \n",
       "latitude                                                      1.380709   \n",
       "longitude                                                   103.835368   \n",
       "street_name_y                                      ANG MO KIO AVENUE 5   \n",
       "building                                            YIO CHU KANG GREEN   \n",
       "address              602 ANG MO KIO AVENUE 5 YIO CHU KANG GREEN SIN...   \n",
       "\n",
       "                                                                     3  \\\n",
       "month                                                          2017-01   \n",
       "town                                                        ANG MO KIO   \n",
       "flat_type                                                       3 ROOM   \n",
       "block                                                              465   \n",
       "street_name_x                                        ANG MO KIO AVE 10   \n",
       "storey_range                                                  04 TO 06   \n",
       "floor_area_sqm                                                    68.0   \n",
       "flat_model                                              New Generation   \n",
       "lease_commence_date                                               1980   \n",
       "remaining_lease                                      62 years 01 month   \n",
       "resale_price                                                  265000.0   \n",
       "key                                               ANG MO KIO AVENUE 10   \n",
       "postal                                                        560465.0   \n",
       "latitude                                                      1.366201   \n",
       "longitude                                                   103.857201   \n",
       "street_name_y                                     ANG MO KIO AVENUE 10   \n",
       "building                                             TECK GHEE HORIZON   \n",
       "address              465 ANG MO KIO AVENUE 10 TECK GHEE HORIZON SIN...   \n",
       "\n",
       "                                                                     4  \n",
       "month                                                          2017-01  \n",
       "town                                                        ANG MO KIO  \n",
       "flat_type                                                       3 ROOM  \n",
       "block                                                              601  \n",
       "street_name_x                                         ANG MO KIO AVE 5  \n",
       "storey_range                                                  01 TO 03  \n",
       "floor_area_sqm                                                    67.0  \n",
       "flat_model                                              New Generation  \n",
       "lease_commence_date                                               1980  \n",
       "remaining_lease                                     62 years 05 months  \n",
       "resale_price                                                  265000.0  \n",
       "key                                                ANG MO KIO AVENUE 5  \n",
       "postal                                                        560601.0  \n",
       "latitude                                                      1.381041  \n",
       "longitude                                                   103.835132  \n",
       "street_name_y                                      ANG MO KIO AVENUE 5  \n",
       "building                                            YIO CHU KANG GREEN  \n",
       "address              601 ANG MO KIO AVENUE 5 YIO CHU KANG GREEN SIN...  "
      ]
     },
     "execution_count": 3,
     "metadata": {},
     "output_type": "execute_result"
    }
   ],
   "source": [
    "df.head().T"
   ]
  },
  {
   "attachments": {},
   "cell_type": "markdown",
   "metadata": {},
   "source": [
    "Checking for null/NaN data. In this case the percentage of rows having missing data are low, so it's safe to drop them"
   ]
  },
  {
   "cell_type": "code",
   "execution_count": 4,
   "metadata": {},
   "outputs": [
    {
     "data": {
      "text/plain": [
       "month                  0.000000\n",
       "town                   0.000000\n",
       "flat_type              0.000000\n",
       "block                  0.000000\n",
       "street_name_x          0.000000\n",
       "storey_range           0.000000\n",
       "floor_area_sqm         0.000000\n",
       "flat_model             0.000000\n",
       "lease_commence_date    0.000000\n",
       "remaining_lease        0.000000\n",
       "resale_price           0.000000\n",
       "key                    0.000000\n",
       "postal                 0.018513\n",
       "latitude               0.018513\n",
       "longitude              0.018513\n",
       "street_name_y          0.018513\n",
       "building               0.018513\n",
       "address                0.018513\n",
       "dtype: float64"
      ]
     },
     "execution_count": 4,
     "metadata": {},
     "output_type": "execute_result"
    }
   ],
   "source": [
    "df.isnull().mean()"
   ]
  },
  {
   "cell_type": "code",
   "execution_count": 5,
   "metadata": {},
   "outputs": [],
   "source": [
    "df = df.drop(df[df['latitude'].isnull()].index)"
   ]
  },
  {
   "attachments": {},
   "cell_type": "markdown",
   "metadata": {},
   "source": [
    "Now let's look at the overall distribution of resale price, henceforth also refered to as the target variable.\n",
    "\n",
    "The distribution is right-skewed with few but very high values. The median value (SGD 440k) is lower than average (SGD 470k)"
   ]
  },
  {
   "cell_type": "code",
   "execution_count": 145,
   "metadata": {},
   "outputs": [
    {
     "data": {
      "image/png": "[encoded data removed]",
      "text/plain": [
       "<Figure size 792x360 with 2 Axes>"
      ]
     },
     "metadata": {
      "needs_background": "light"
     },
     "output_type": "display_data"
    }
   ],
   "source": [
    "fig, axes = plt.subplots(2, 1, figsize=(11, 5), sharex=True, height_ratios=[1, 6])\n",
    "\n",
    "\n",
    "df['resale_price'].hist(\n",
    "    ec='white',\n",
    "    linewidth=.5,\n",
    "    bins=[_ * 50_000 for _ in range(30)],\n",
    "    grid=False,\n",
    "    ax=axes[1])\n",
    "\n",
    "axes[1].axvline(df['resale_price'].mean(), ls='--', c='red', label=f\"avg = SGD {df['resale_price'].mean():,.0f}\")\n",
    "axes[1].axvline(df['resale_price'].median(), ls='--', c='k', label=f\"median = SGD {df['resale_price'].median():,.0f}\")\n",
    "axes[1].set_xticks([_ * 100_000 for _ in range(14)], labels=[_ * 100 for _ in range(14)])\n",
    "axes[1].set_xlabel('Unit: thousands SGD')\n",
    "axes[1].legend()\n",
    "axes[0].axis('off')\n",
    "sns.despine(ax=axes[1])\n",
    "\n",
    "sns.boxplot(df['resale_price'], orient=\"h\", showfliers=False, ax=axes[0])\n",
    "sns.despine(ax=axes[0], left=True, bottom=True)\n",
    "fig.suptitle('HDB Resale Price Distribution')\n",
    "fig.tight_layout()"
   ]
  },
  {
   "attachments": {},
   "cell_type": "markdown",
   "metadata": {},
   "source": [
    "#### Numerical variables"
   ]
  },
  {
   "attachments": {},
   "cell_type": "markdown",
   "metadata": {},
   "source": [
    "Correlations between each numeric variables and the target value give us a good sense of how much predicting power they have.\n",
    "\n",
    "Unsurprisingly, bigger and newer flats are positively correlated with resale price"
   ]
  },
  {
   "cell_type": "code",
   "execution_count": 7,
   "metadata": {},
   "outputs": [
    {
     "data": {
      "image/png": "[encoded data removed]",
      "text/plain": [
       "<Figure size 432x288 with 1 Axes>"
      ]
     },
     "metadata": {
      "needs_background": "light"
     },
     "output_type": "display_data"
    }
   ],
   "source": [
    "fig, ax = plt.subplots()\n",
    "df.drop('resale_price', axis=1) \\\n",
    "    .corrwith(df['resale_price'], numeric_only=True) \\\n",
    "    .plot(kind='barh', ax=ax)\n",
    "ax.axvline(x=0, c='k')\n",
    "ax.set_title('Correlation with resale price')\n",
    "sns.despine(ax=ax)"
   ]
  },
  {
   "attachments": {},
   "cell_type": "markdown",
   "metadata": {},
   "source": [
    "We can also study how much feature variables correlate with each other. If we solely care about having a good prediction, then it's ok to have correlated features! However, if we want to study the impact of each variable, it's helpful to remove redundant dimensions.\n",
    "\n",
    "In the heatmap below, `latitude` and `postal` are highly correlated, we will drop at least 1 of them before fitting the models. However for now we will keep them to create a more useful feature."
   ]
  },
  {
   "cell_type": "code",
   "execution_count": 8,
   "metadata": {},
   "outputs": [
    {
     "data": {
      "text/plain": [
       "<AxesSubplot: >"
      ]
     },
     "execution_count": 8,
     "metadata": {},
     "output_type": "execute_result"
    },
    {
     "data": {
      "image/png": "[encoded data removed]",
      "text/plain": [
       "<Figure size 720x432 with 2 Axes>"
      ]
     },
     "metadata": {
      "needs_background": "light"
     },
     "output_type": "display_data"
    }
   ],
   "source": [
    "corr_matrix = df.corr(numeric_only=True).round(3)\n",
    "\n",
    "# remove the top triangle of the matrix to simplify the heatmap\n",
    "mask = np.zeros_like(corr_matrix, dtype=bool)\n",
    "mask[np.triu_indices_from(mask)] = True\n",
    "\n",
    "fig, ax = plt.subplots(figsize=(10, 6))\n",
    "sns.heatmap(\n",
    "    corr_matrix,\n",
    "    mask=mask,\n",
    "    annot=True,\n",
    "    cmap=sns.color_palette(\"vlag_r\", as_cmap=True),\n",
    "    ax=ax)"
   ]
  },
  {
   "attachments": {},
   "cell_type": "markdown",
   "metadata": {},
   "source": [
    "#### Categorical variables\n",
    "\n",
    "`block`, `building`, `address` contains too many categories. This might cause overfitting or computational issues then we will not be using those variables.\n",
    "\n",
    "Perhaps the most useful feature we can use here is `flat_type`. The possible values are:\n",
    "- 2 ROOM\n",
    "- 3 ROOM\n",
    "- 4 ROOM\n",
    "- 5 ROOM\n",
    "- Executive\n",
    "- Multi-generationla\n",
    "\n",
    "There are a few ways to deal with this data. For simplicity, I will convert them to number of rooms so we can have a nice numeric value."
   ]
  },
  {
   "cell_type": "code",
   "execution_count": 9,
   "metadata": {},
   "outputs": [
    {
     "data": {
      "text/plain": [
       "month                68\n",
       "town                 26\n",
       "flat_type             6\n",
       "block              2580\n",
       "street_name_x       556\n",
       "storey_range         17\n",
       "flat_model           21\n",
       "remaining_lease     653\n",
       "key                 556\n",
       "street_name_y       556\n",
       "building            612\n",
       "address            8896\n",
       "dtype: int64"
      ]
     },
     "execution_count": 9,
     "metadata": {},
     "output_type": "execute_result"
    }
   ],
   "source": [
    "df.select_dtypes('object').nunique()"
   ]
  },
  {
   "cell_type": "code",
   "execution_count": 14,
   "metadata": {},
   "outputs": [
    {
     "data": {
      "text/plain": [
       "<AxesSubplot: xlabel='flat_type', ylabel='resale_price'>"
      ]
     },
     "execution_count": 14,
     "metadata": {},
     "output_type": "execute_result"
    },
    {
     "data": {
      "image/png": "[encoded data removed]",
      "text/plain": [
       "<Figure size 648x288 with 1 Axes>"
      ]
     },
     "metadata": {
      "needs_background": "light"
     },
     "output_type": "display_data"
    }
   ],
   "source": [
    "fig, ax = plt.subplots(figsize=(9, 4))\n",
    "\n",
    "sns.boxplot(\n",
    "    data=df,\n",
    "    y='resale_price',\n",
    "    x='flat_type',\n",
    "    palette=\"Reds\",\n",
    "    showfliers=False,\n",
    "    ax=ax)"
   ]
  },
  {
   "attachments": {},
   "cell_type": "markdown",
   "metadata": {},
   "source": [
    "## 2. Feature engineering"
   ]
  },
  {
   "attachments": {},
   "cell_type": "markdown",
   "metadata": {},
   "source": [
    "Intuitively, we know that location is one of the most important factor in determining house prices. We will need a way to add this information to our model. To visualize the impact of location, I've created a choropleth map.\n",
    "\n",
    "It's visible from the map that the further towns have lower price range. "
   ]
  },
  {
   "cell_type": "code",
   "execution_count": 49,
   "metadata": {},
   "outputs": [],
   "source": [
    "sg_map = gpd.read_file('data/geojson/singapore_planning.geojson')\n",
    "sg_map['PLN_AREA_N'] = sg_map['PLN_AREA_N'].replace({'OUTRAM': 'CENTRAL AREA', 'ROCHOR': 'CENTRAL AREA', 'DOWNTOWN CORE': 'CENTRAL AREA'})\n",
    "sg_map = sg_map.dissolve('PLN_AREA_N')\n",
    "sg_map.to_file('data/geojson/singapore_planning_clean.geojson', driver='GeoJSON')\n",
    "\n",
    "mrt_map = gpd.read_file('data/geojson/singapore-mrt.min.geojson')\n",
    "mrt_map = mrt_map.drop(['network', 'wikipedia_url', 'wikipedia_image_url', 'name_zh', 'name_hi'], axis=1, errors='ignore')\n",
    "mrt_map = mrt_map[mrt_map['type']=='station']\n",
    "mrt_map = mrt_map.reset_index(drop=True)\n",
    "\n",
    "sg_map['agg.mean_4_ROOM'] = sg_map.index.map(df[df['flat_type']=='4 ROOM'].groupby('town')['resale_price'].mean().to_dict())\n",
    "sg_map['agg.median_4_ROOM'] = sg_map.index.map(df[df['flat_type']=='4 ROOM'].groupby('town')['resale_price'].median().to_dict())\n",
    "sg_map['agg.count_4_ROOM'] = sg_map.index.map(df[df['flat_type']=='4 ROOM']['town'].value_counts().to_dict())\n",
    "sg_map['PLAN_AREA_N'] = sg_map.index\n",
    "\n",
    "CITY_CENTER = (1.2801990449115896, 103.85175675603243)\n",
    "\n",
    "\n",
    "town_map = folium.Map(location=[1.35, 103.8], zoom_start=11, tiles='CartoDB positron')\n",
    "\n",
    "folium.Choropleth(\n",
    "    geo_data=sg_map,\n",
    "    name=\"4 ROOM\",\n",
    "    data=sg_map,\n",
    "    columns=['PLAN_AREA_N', 'agg.mean_4_ROOM'],\n",
    "    key_on=\"feature.properties.PLAN_AREA_N\",\n",
    "    fill_color=\"RdYlGn_r\",\n",
    "    nan_fill_color=\"None\",\n",
    "    fill_opacity=0.75,\n",
    "    bins=[_ * 50_000 for _ in range(6, 17)],\n",
    "    line_opacity=.1,\n",
    "    legend_name=\"Average HDB resale value (SGD)\",\n",
    "    highlight=True,\n",
    ").add_to(town_map)\n",
    "\n",
    "style_function = lambda x: {\n",
    "    'fillColor': '#ffffff',\n",
    "    'color':'#000000', \n",
    "    'fillOpacity': 0.1, \n",
    "    'weight': 0.1}\n",
    "\n",
    "highlight_function = lambda x: {\n",
    "    'fillColor': '#000000', \n",
    "    'color':'#000000', \n",
    "    'fillOpacity': 0.50, \n",
    "    'weight': 0.1}\n",
    "    \n",
    "town_info_tooltips = folium.features.GeoJson(\n",
    "    data=sg_map.round(),\n",
    "    style_function=style_function, \n",
    "    control=False,\n",
    "    highlight_function=highlight_function, \n",
    "    tooltip=folium.features.GeoJsonTooltip(\n",
    "        fields=['PLAN_AREA_N', 'agg.mean_4_ROOM', 'agg.median_4_ROOM', 'agg.count_4_ROOM'],  # use fields from the json file\n",
    "        aliases=['Town:', 'Mean (SGD):', 'Median (SGD): ', 'Number of HDBs:'],\n",
    "        style=(\"background-color: white; color: #333333; font-family: arial; font-size: 12px; padding: 5px;\") \n",
    "    )\n",
    ")\n",
    "\n",
    "town_map.add_child(town_info_tooltips)\n",
    "town_map.keep_in_front(town_info_tooltips)\n",
    "\n",
    "\n",
    "folium.LayerControl().add_to(town_map)\n",
    "# town_map.save(\"assets/town_map.html\")\n",
    "town_map"
   ]
  },
  {
   "attachments": {},
   "cell_type": "markdown",
   "metadata": {},
   "source": [
    "To determine how central a location it, I will calculate the straight line distance to a center point. For Singapore, I've selected the point having coordinate value `CITY_CENTER = (1.28019, 103.85175)`. This point was picked by eyeballing on google map."
   ]
  },
  {
   "cell_type": "code",
   "execution_count": 63,
   "metadata": {},
   "outputs": [],
   "source": [
    "def haversine(lon1, lat1, lon2, lat2):\n",
    "    \"\"\"\n",
    "    Calculate the great circle distance in kilometers between two points \n",
    "    on the earth (specified in decimal degrees)\n",
    "    \"\"\"\n",
    "    # convert decimal degrees to radians \n",
    "    lon1, lat1, lon2, lat2 = map(radians, [lon1, lat1, lon2, lat2])\n",
    "\n",
    "    # haversine formula \n",
    "    dlon = lon2 - lon1 \n",
    "    dlat = lat2 - lat1 \n",
    "    a = sin(dlat/2)**2 + cos(lat1) * cos(lat2) * sin(dlon/2)**2\n",
    "    c = 2 * asin(sqrt(a)) \n",
    "    \n",
    "    # constant used to convert to km\n",
    "    r = 6371\n",
    "    \n",
    "    return c * r\n",
    "\n",
    "\n",
    "\n",
    "df['distance_from_center'] = df.apply(\n",
    "    lambda x: haversine(\n",
    "        x['longitude'],\n",
    "        x['latitude'],\n",
    "        CITY_CENTER[1],\n",
    "        CITY_CENTER[0]), axis=1)"
   ]
  },
  {
   "attachments": {},
   "cell_type": "markdown",
   "metadata": {},
   "source": [
    "### Distance to the nearest MRT station\n",
    "\n",
    "Other than distance to city center, close priximity to amenities and public transportations could also make the flats more attractive and hence having higher price. I will now calculate distance from the nearest MRT station to each of the HDB block.\n",
    "\n",
    "To make calculations faster, I've (1) estimated the nearest location using Pythagorean theorem, and then (2) use the haversine formula above to determine actual distance in kilometers. This will save some calculation time."
   ]
  },
  {
   "cell_type": "code",
   "execution_count": null,
   "metadata": {},
   "outputs": [],
   "source": [
    "# hdb_ll -> np.ndarray\n",
    "\n",
    "# latitude is the x-axis\n",
    "# longitude is the y-axis\n",
    "hdb_ll = df[['longitude', 'latitude']].values\n",
    "\n",
    "# find nearst mrt\n",
    "x_delta = (mrt_map.geometry.x.values.reshape(-1, 1) - hdb_ll[:, 0])\n",
    "y_delta = (mrt_map.geometry.y.values.reshape(-1, 1) - hdb_ll[:, 1])\n",
    "delta = ((x_delta ** 2) + (y_delta)**2) ** .5\n",
    "\n",
    "df['nearest_mrt_id'] = delta.argmin(axis=0)\n",
    "df['nearest_mrt_location'] = df['nearest_mrt_id'].map(pd.Series(mrt_map.geometry.values, index=mrt_map.index).to_dict())\n",
    "df['nearest_mrt_longitude'] = df['nearest_mrt_location'].apply(lambda val: val.x)\n",
    "df['nearest_mrt_latitude'] = df['nearest_mrt_location'].apply(lambda val: val.y)\n",
    "\n",
    "df['distance_to_mrt'] = df.apply(lambda x:\n",
    "    haversine(\n",
    "        x['longitude'],\n",
    "        x['latitude'],\n",
    "        x['nearest_mrt_longitude'],\n",
    "        x['nearest_mrt_latitude']),\n",
    "        axis=1)\n",
    "\n",
    "df = df.drop(['nearest_mrt_longitude', 'nearest_mrt_latitude', 'nearest_mrt_id'], axis=1, errors='ignore')"
   ]
  },
  {
   "attachments": {},
   "cell_type": "markdown",
   "metadata": {},
   "source": [
    "### Other features"
   ]
  },
  {
   "attachments": {},
   "cell_type": "markdown",
   "metadata": {},
   "source": [
    "Here's the remaining features to process:\n",
    "* Convert remaining lease duration from year-month format to months\n",
    "* Create a new feature called number of bedrooms from flat type (explained above)\n",
    "* Averaged storey number since the original dataset list a range instead of exact floor number\n",
    "* Drop values for rare types\n",
    "* Drop highly correlated features\n",
    "* Use boxlots to determine appropriate feature range. Optionally drop outliers."
   ]
  },
  {
   "cell_type": "code",
   "execution_count": null,
   "metadata": {},
   "outputs": [],
   "source": [
    "# convert `remaining_lease_months` from years months to months\n",
    "df['remaining_lease'].str.contains('year').value_counts()\n",
    "df['remaining_lease_months'] = df['remaining_lease'].str[:2].astype(int) * 12 + df['remaining_lease'].str[-9:-7].astype(int)\n",
    "\n",
    "\n",
    "# convert flat type to number of rooms\n",
    "# https://www.hdb.gov.sg/residential/buying-a-flat/finding-a-flat/types-of-flats\n",
    "df['num_bedrooms'] = df['flat_type'].map({\n",
    "    '1 ROOM': 0.5,\n",
    "    '2 ROOM': 1,\n",
    "    '3 ROOM': 2,\n",
    "    '4 ROOM': 3,\n",
    "    '5 ROOM': 4,\n",
    "    'EXECUTIVE': 5,\n",
    "    'MULTI-GENERATION': 6,\n",
    "})\n",
    "\n",
    "df = df.drop(df[df['num_bedrooms'].isnull()].index)\n",
    "\n",
    "# convert storey range to mean of range\n",
    "df['storey_range_feature'] = (df['storey_range'].str[:2].astype(int) + df['storey_range'].str[-2:].astype(int)) / 2\n",
    "\n",
    "# drop highly correlated features\n",
    "df = df.drop(['lease_commence_date', 'postal'], axis=1, errors='ignore')\n",
    "\n",
    "\n",
    "numerical_feature_cols = [\n",
    "    'num_bedrooms',\n",
    "    'floor_area_sqm',\n",
    "    'storey_range_feature',\n",
    "    'remaining_lease_months',\n",
    "    'distance_to_mrt',\n",
    "    'distance_from_center',\n",
    "    'floor_area_sqm',\n",
    "    ]\n",
    "\n",
    "fig, axes = plt.subplots(1, len(numerical_feature_cols), figsize=(16, 6))\n",
    "\n",
    "for idx, col_name in enumerate(numerical_feature_cols):\n",
    "    ax = axes[idx]\n",
    "    sns.boxplot(df[col_name], ax=ax)\n",
    "    sns.despine(ax=ax)\n",
    "    ax.set_title(col_name.replace('_', '\\n'), loc='left')\n",
    "\n",
    "fig.tight_layout()"
   ]
  },
  {
   "cell_type": "code",
   "execution_count": null,
   "metadata": {},
   "outputs": [],
   "source": [
    "# remove outliers\n",
    "df = df[df['floor_area_sqm'] <= df['floor_area_sqm'].quantile(.95)]\n",
    "df = df.dropna()\n",
    "df = df.reset_index(drop=True)"
   ]
  },
  {
   "cell_type": "code",
   "execution_count": null,
   "metadata": {},
   "outputs": [],
   "source": [
    "# correlation between numeric variables and target\n",
    "fig, ax = plt.subplots()\n",
    "df.drop('resale_price', axis=1) \\\n",
    "    .corrwith(df['resale_price'], numeric_only=True) \\\n",
    "    .sort_values(ascending=True) \\\n",
    "    .plot(kind='barh', ax=ax)\n",
    "ax.axvline(x=0, c='k')\n",
    "ax.set_title('Correlation with resale price')\n",
    "sns.despine(ax=ax)"
   ]
  },
  {
   "cell_type": "code",
   "execution_count": null,
   "metadata": {},
   "outputs": [],
   "source": [
    "# save data\n",
    "# df.to_csv('./data/final/cleaned-data.csv', index=False)"
   ]
  },
  {
   "attachments": {},
   "cell_type": "markdown",
   "metadata": {},
   "source": [
    "## 3. Split train-test data"
   ]
  },
  {
   "cell_type": "code",
   "execution_count": null,
   "metadata": {},
   "outputs": [],
   "source": [
    "X = df[numerical_feature_cols]\n",
    "y = df['resale_price']\n",
    "\n",
    "X_train, X_test, y_train, y_test = train_test_split(X, y, test_size=0.2, random_state=10)"
   ]
  },
  {
   "attachments": {},
   "cell_type": "markdown",
   "metadata": {},
   "source": [
    "## 4. Fit models"
   ]
  },
  {
   "attachments": {},
   "cell_type": "markdown",
   "metadata": {},
   "source": [
    "#### 4.1 Linear Regresssion (baseline)\n",
    "\n",
    "I will first fit a simple estimator, which will be used as baseline."
   ]
  },
  {
   "cell_type": "code",
   "execution_count": null,
   "metadata": {},
   "outputs": [],
   "source": [
    "model = LinearRegression()\n",
    "print(f'fitting {model.__class__.__name__}')\n",
    "model.fit(X_train, y_train)\n",
    "preds = model.predict(X_test)\n",
    "rmse = mean_squared_error(y_test, preds, squared=False)\n",
    "print(f'{rmse=:,.0f}')"
   ]
  },
  {
   "attachments": {},
   "cell_type": "markdown",
   "metadata": {},
   "source": [
    "#### 4.2 Decision Trees, Random Forest, GradientBoosting, SVR"
   ]
  },
  {
   "cell_type": "code",
   "execution_count": null,
   "metadata": {},
   "outputs": [],
   "source": [
    "model = RandomForestRegressor(max_depth=20, n_estimators=100)\n",
    "print(f'fitting {model.__class__.__name__}')\n",
    "model.fit(X_train, y_train)\n",
    "preds = model.predict(X_test)\n",
    "rmse = mean_squared_error(y_test, preds, squared=False)\n",
    "print(f'{rmse=:,.0f}')"
   ]
  },
  {
   "cell_type": "code",
   "execution_count": null,
   "metadata": {},
   "outputs": [],
   "source": [
    "model = GradientBoostingRegressor()\n",
    "print(f'fitting {model.__class__.__name__}')\n",
    "model.fit(X_train, y_train)\n",
    "preds = model.predict(X_test)\n",
    "rmse = mean_squared_error(y_test, preds, squared=False)\n",
    "print(f'{rmse=:,.0f}')"
   ]
  },
  {
   "cell_type": "code",
   "execution_count": null,
   "metadata": {},
   "outputs": [],
   "source": [
    "model = LinearSVR()\n",
    "print(f'fitting {model.__class__.__name__}')\n",
    "model.fit(X_train, y_train)\n",
    "preds = model.predict(X_test)\n",
    "rmse = mean_squared_error(y_test, preds, squared=False)\n",
    "print(f'{rmse=:,.0f}')"
   ]
  },
  {
   "attachments": {},
   "cell_type": "markdown",
   "metadata": {},
   "source": [
    "Out of the few models above, RandomForests perform the best. With a RMSE of 33.4k. In real terms, for a property that cost on average close to 500k, being off by 33k is decent.\n",
    "\n",
    "However, there are a lot more that we can do here:\n",
    "    1. Selecting different models\n",
    "    2. Changing hyperparameters\n",
    "\n",
    "\n",
    "Without mlflow, we will have to manually keep track of model parameteres, data sources, metrics, etc (such as in a google sheet). This is prone to errors and hard to keep track.\n",
    "\n",
    "In the next post I will use mlflow to manage experiments and models."
   ]
  },
  {
   "attachments": {},
   "cell_type": "markdown",
   "metadata": {},
   "source": [
    "## 5. Summary (so far)\n",
    "\n",
    "- I've built some simple models to predict HDB resale prices. In addition to the given features (eg. living area, town name, flat type), I've added 2 features to measure centrality and proximity to MRT stations.\n",
    "\n",
    "- RandomForest performs the best. The number of relatively uncorrelated trees operating as a committee will outperform most single complex model. We can improve the prediction by adding more relevant features such as to good schools, shopping malls, other amenities, etc.\n",
    "\n",
    "- Conceptually, there could be other ways to predict house price, such as using a Time Series model (such as ARIMA)\n",
    "\n",
    "_That's the end of part 1. In the next post of this series I will write about mlflow_"
   ]
  }
 ],
 "metadata": {
  "kernelspec": {
   "display_name": "Python 3",
   "language": "python",
   "name": "python3"
  },
  "language_info": {
   "codemirror_mode": {
    "name": "ipython",
    "version": 3
   },
   "file_extension": ".py",
   "mimetype": "text/x-python",
   "name": "python",
   "nbconvert_exporter": "python",
   "pygments_lexer": "ipython3",
   "version": "3.10.9"
  },
  "orig_nbformat": 4,
  "vscode": {
   "interpreter": {
    "hash": "b0fa6594d8f4cbf19f97940f81e996739fb7646882a419484c72d19e05852a7e"
   }
  }
 },
 "nbformat": 4,
 "nbformat_minor": 2
}
